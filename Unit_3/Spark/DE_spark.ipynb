{
 "cells": [
  {
   "cell_type": "markdown",
   "metadata": {},
   "source": [
    "### Импорт библиотек"
   ]
  },
  {
   "cell_type": "code",
   "execution_count": 126,
   "metadata": {},
   "outputs": [],
   "source": [
    "import pyspark.sql.types as T\n",
    "import pyspark.sql.functions as F\n",
    "from pyspark.sql import SparkSession\n",
    "\n",
    "import time\n",
    "import names\n",
    "import random\n",
    "import datetime"
   ]
  },
  {
   "cell_type": "markdown",
   "metadata": {},
   "source": [
    "### Анализ данных clickstream пользователей новостного Интернет-портала."
   ]
  },
  {
   "cell_type": "markdown",
   "metadata": {},
   "source": [
    "Создайте схему будущего фрейма данных. Схема должна включать следующие атрибуты:\n",
    "\n",
    "* `id` -  уникальный идентификатор посетителя сайта. Тип – последовательность чисел фиксированной длины. Данное поле не является первичным ключом.\n",
    "* `timestamp` – дата и время события в формате unix timestamp.\n",
    "* `type` – тип события, значение из списка (факт посещения(visit), клик по визуальному элементу страницы(click), скролл(scroll), перед на другую страницу(move)).\n",
    "* `page_id` – id текущей страницы. Тип - последовательность чисел фиксированной длины.\n",
    "* `tag` – каждая страница с новостью размечается редакцией специальными тегами, которые отражают тематику конкретной новости со страницы. Возможный список тематик: политика, спорт, медицина и т.д.\n",
    "* `sign` – наличие у пользователя личного кабинета. Значения – True/False"
   ]
  },
  {
   "cell_type": "code",
   "execution_count": 127,
   "metadata": {},
   "outputs": [],
   "source": [
    "# Create schema.\n",
    "schema = (\n",
    "    T.StructType()\n",
    "    .add('id', T.IntegerType(), False)\n",
    "    .add('timestamp', T.IntegerType(), False)\n",
    "    .add('type', T.StringType(), False)\n",
    "    .add('page_id', T.IntegerType(), False)\n",
    "    .add('tag', T.StringType(), False)\n",
    "    .add('sign', T.BooleanType(), False)\n",
    ")"
   ]
  },
  {
   "cell_type": "markdown",
   "metadata": {},
   "source": [
    "Создайте датафрейм с описанной выше схемой данных."
   ]
  },
  {
   "cell_type": "code",
   "execution_count": 128,
   "metadata": {},
   "outputs": [],
   "source": [
    "# Create Spark session.\n",
    "spark = (\n",
    "    SparkSession.builder\n",
    "    .master('local')\n",
    "    .appName('Wprd count')\n",
    "    .config('spark.driver.bindAdress', 'localhost')\n",
    "    .config('spark.ui.port', '4040')\n",
    "    .getOrCreate()\n",
    "    )"
   ]
  },
  {
   "cell_type": "code",
   "execution_count": 129,
   "metadata": {},
   "outputs": [],
   "source": [
    "# Create empty DataFrame\n",
    "df = spark.createDataFrame([], schema)"
   ]
  },
  {
   "cell_type": "markdown",
   "metadata": {},
   "source": [
    "Наполните датафрейм данными."
   ]
  },
  {
   "cell_type": "code",
   "execution_count": 130,
   "metadata": {},
   "outputs": [],
   "source": [
    "def generate_users(min_id, max_id, user_count):\n",
    "    \"\"\"Creates new users\"\"\"\n",
    "    uid = random.sample(range(min_id, max_id), user_count)\n",
    "    result = [(x, random.choice([True, False])) for x in uid]\n",
    "    return result\n",
    "\n",
    "def generate_pages(min_id, max_id, page_count):\n",
    "    \"\"\"Creates new users\"\"\"\n",
    "    pid = random.sample(range(min_id, max_id), page_count)\n",
    "    result = [(x, random.choice(['Sport', 'Science', 'Politics', 'Economics', 'Crime', 'Education', 'Entertainment'])) for x in pid]\n",
    "    return result\n",
    "\n",
    "def randomDate(start, end):\n",
    "    \"\"\"Generate random date\"\"\"\n",
    "    frmt = '%Y-%m-%d %H:%M:%S'\n",
    "    stime = time.mktime(time.strptime(start, frmt))\n",
    "    etime = time.mktime(time.strptime(end, frmt))\n",
    "    ptime = stime + random.random() * (etime - stime)\n",
    "    dt = datetime.datetime.fromtimestamp(time.mktime(time.localtime(ptime)))\n",
    "    return dt\n",
    "\n",
    "def generate_user_clicks(user, max_axtions, pages):\n",
    "    \"\"\"Generate click stream data\"\"\"\n",
    "    uid, sign = user\n",
    "    user_actions_count = random.randint(1, max_axtions)\n",
    "    click_stream = []\n",
    "    for i in range(user_actions_count):\n",
    "        ts = int(\n",
    "            datetime.datetime.timestamp(\n",
    "                randomDate(\"2022-01-01 00:00:00\", \"2022-12-31 23:59:59\")\n",
    "            )\n",
    "        )\n",
    "        tp = random.choice(['visit', 'click', 'scroll', 'move'])\n",
    "        pid = random.choice(pages)[0]\n",
    "        tg = random.choice(pages)[1]\n",
    "        click_stream.append((uid, ts, tp, pid, tg, sign))\n",
    "    return click_stream\n",
    "\n",
    "def generate_data(users, max_axtions, min_pid, max_pid, page_count):\n",
    "    \"\"\"Generate overall data\"\"\"\n",
    "    result = []\n",
    "    for user in users:\n",
    "        user_click_stream = generate_user_clicks(user, max_axtions, generate_pages(min_pid, max_pid, page_count))\n",
    "        result.extend(user_click_stream)\n",
    "    return result"
   ]
  },
  {
   "cell_type": "code",
   "execution_count": 131,
   "metadata": {},
   "outputs": [],
   "source": [
    "# Set random state.\n",
    "random.seed(43)"
   ]
  },
  {
   "cell_type": "code",
   "execution_count": 142,
   "metadata": {},
   "outputs": [],
   "source": [
    "# Generate data.\n",
    "users = generate_users(10000, 99999, 200)\n",
    "data = generate_data(users, max_axtions=500, min_pid=1, max_pid=1000, page_count=100)\n",
    "append_data = spark.createDataFrame(data, schema=schema)\n",
    "# Append generated data.\n",
    "df = df.union(append_data)"
   ]
  },
  {
   "cell_type": "markdown",
   "metadata": {},
   "source": [
    " Решение задач:"
   ]
  },
  {
   "cell_type": "code",
   "execution_count": 143,
   "metadata": {},
   "outputs": [
    {
     "name": "stdout",
     "output_type": "stream",
     "text": [
      "+-----+-----+\n",
      "|   id|count|\n",
      "+-----+-----+\n",
      "|42046|  146|\n",
      "|98851|  141|\n",
      "|27545|  134|\n",
      "|77381|  131|\n",
      "|98064|  130|\n",
      "+-----+-----+\n",
      "only showing top 5 rows\n",
      "\n"
     ]
    }
   ],
   "source": [
    "# Вывести топ-5 самых активных посетителей сайта\n",
    "df.filter(df.type == \"visit\").groupBy('id').count().orderBy(F.col('count').desc()).show(5)"
   ]
  },
  {
   "cell_type": "code",
   "execution_count": 144,
   "metadata": {},
   "outputs": [
    {
     "data": {
      "text/plain": [
       "53.5"
      ]
     },
     "execution_count": 144,
     "metadata": {},
     "output_type": "execute_result"
    }
   ],
   "source": [
    "# Посчитать процент посетителей, у которых есть ЛК\n",
    "100 * df.filter(df.sign == True).agg(F.countDistinct('id')).first()[0]/df.agg(F.countDistinct('id')).first()[0]"
   ]
  },
  {
   "cell_type": "code",
   "execution_count": 145,
   "metadata": {},
   "outputs": [
    {
     "name": "stdout",
     "output_type": "stream",
     "text": [
      "+-------+-----+\n",
      "|page_id|count|\n",
      "+-------+-----+\n",
      "|    318|   46|\n",
      "|    211|   46|\n",
      "|    440|   45|\n",
      "|    453|   45|\n",
      "|    189|   44|\n",
      "+-------+-----+\n",
      "only showing top 5 rows\n",
      "\n"
     ]
    }
   ],
   "source": [
    "# Вывести топ-5 страниц сайта по показателю общего кол-ва кликов на данной странице\n",
    "df.filter(df.type == \"click\").groupBy('page_id').count().orderBy(F.col('count').desc()).show(5)"
   ]
  },
  {
   "cell_type": "code",
   "execution_count": 146,
   "metadata": {},
   "outputs": [],
   "source": [
    "# Добавьте столбец к фрейму данных со значением временного диапазона в рамках суток с размером окна – 4 часа(0-4, 4-8, 8-12 и т.д.)\n",
    "df_hour = df.withColumn(\n",
    "    \"hour\", (\n",
    "        F.hour(\n",
    "            F.from_unixtime(\n",
    "                F.col(\"timestamp\").cast(T.StringType())\n",
    "            )\n",
    "        )/4\n",
    "    )\n",
    ")\n",
    "df_bin = df_hour.withColumn(\n",
    "    \"time_bin\",\n",
    "    F.when((F.col(\"hour\") == 6) | (F.col(\"hour\") < 1), F.lit(\"0-4\"))\n",
    "    .when((F.col(\"hour\") <= 1) | (F.col(\"hour\") < 2), F.lit(\"4-8\"))\n",
    "    .when((F.col(\"hour\") <= 2) | (F.col(\"hour\") < 3), F.lit(\"8-12\"))\n",
    "    .when((F.col(\"hour\") <= 3) | (F.col(\"hour\") < 4), F.lit(\"12-16\"))\n",
    "    .when((F.col(\"hour\") <= 4) | (F.col(\"hour\") < 5), F.lit(\"16-20\"))\n",
    "    .when((F.col(\"hour\") <= 5) | (F.col(\"hour\") < 6), F.lit(\"20-24\"))\n",
    ").drop(F.col('hour'))"
   ]
  },
  {
   "cell_type": "code",
   "execution_count": 147,
   "metadata": {},
   "outputs": [
    {
     "name": "stdout",
     "output_type": "stream",
     "text": [
      "+-----+----------+------+-------+---------+-----+--------+\n",
      "|   id| timestamp|  type|page_id|      tag| sign|time_bin|\n",
      "+-----+----------+------+-------+---------+-----+--------+\n",
      "|15053|1666832744| click|    857|    Crime|false|     4-8|\n",
      "|15053|1643897679|  move|    785| Politics|false|   16-20|\n",
      "|15053|1641397629|scroll|    460| Politics|false|   16-20|\n",
      "|15053|1646056198| click|    614|Education|false|   16-20|\n",
      "|15053|1659499727|  move|    366|Economics|false|     4-8|\n",
      "+-----+----------+------+-------+---------+-----+--------+\n",
      "only showing top 5 rows\n",
      "\n"
     ]
    }
   ],
   "source": [
    "df_bin.show(5)"
   ]
  },
  {
   "cell_type": "code",
   "execution_count": 148,
   "metadata": {},
   "outputs": [
    {
     "name": "stdout",
     "output_type": "stream",
     "text": [
      "+--------+-----+\n",
      "|time_bin|count|\n",
      "+--------+-----+\n",
      "|     4-8|16692|\n",
      "|     0-4|16651|\n",
      "|   12-16|16566|\n",
      "|   16-20|16470|\n",
      "|   20-24|16422|\n",
      "+--------+-----+\n",
      "only showing top 5 rows\n",
      "\n"
     ]
    }
   ],
   "source": [
    "# Выведите временной промежуток на основе предыдущего задания, в течение которого было больше всего активностей на сайте.\n",
    "df_bin.groupBy(F.col('time_bin')).count().orderBy(F.col('count').desc()).show(5)"
   ]
  },
  {
   "cell_type": "markdown",
   "metadata": {},
   "source": [
    "Создайте второй фрейм данных, который будет содержать информацию о ЛК посетителя сайта со следующим списком атрибутов\n",
    "1. Id – уникальный идентификатор личного кабинета\n",
    "2. User_id – уникальный идентификатор посетителя\n",
    "3. ФИО посетителя\n",
    "4. Дату рождения посетителя\n",
    "5. Дата создания ЛК"
   ]
  },
  {
   "cell_type": "code",
   "execution_count": 164,
   "metadata": {},
   "outputs": [],
   "source": [
    "# Create schema.\n",
    "schema2 = (\n",
    "    T.StructType()\n",
    "    .add('id', T.IntegerType(), False)\n",
    "    .add('user_id', T.IntegerType(), False)\n",
    "    .add('name', T.StringType(), False)\n",
    "    .add('dob', T.IntegerType(), False)\n",
    "    .add('dosu', T.IntegerType(), False)\n",
    ")"
   ]
  },
  {
   "cell_type": "code",
   "execution_count": 160,
   "metadata": {},
   "outputs": [],
   "source": [
    "def generate_users_info(users, min_id):\n",
    "    \"\"\"Creates new users\"\"\"\n",
    "    lkid = random.sample(range(min_id, min_id + len(users)), len(users))\n",
    "    uid = [x[0] for x in users]\n",
    "    name = [names.get_full_name() for x in users]\n",
    "    dob = [int(\n",
    "            datetime.datetime.timestamp(\n",
    "                randomDate(\"1960-01-01 00:00:00\", \"2008-12-31 23:59:59\")\n",
    "            )\n",
    "        ) for x in users]\n",
    "    dosu = [int(\n",
    "            datetime.datetime.timestamp(\n",
    "                randomDate(\"2010-01-01 00:00:00\", \"2021-12-31 23:59:59\")\n",
    "            )\n",
    "        )for x in users]\n",
    "    result = list(zip(lkid, uid, name, dob, dosu))\n",
    "    return result"
   ]
  },
  {
   "cell_type": "code",
   "execution_count": 162,
   "metadata": {},
   "outputs": [],
   "source": [
    "# Generate inforamtion on users.\n",
    "data2 = generate_users_info(users, min_id=100)"
   ]
  },
  {
   "cell_type": "code",
   "execution_count": 165,
   "metadata": {},
   "outputs": [],
   "source": [
    "# Create DataFrame.\n",
    "df2 = spark.createDataFrame(data2, schema2)"
   ]
  },
  {
   "cell_type": "code",
   "execution_count": 173,
   "metadata": {},
   "outputs": [
    {
     "name": "stdout",
     "output_type": "stream",
     "text": [
      "+----------------+\n",
      "|            name|\n",
      "+----------------+\n",
      "|    George Levan|\n",
      "|    Erika Hannah|\n",
      "|  Frank Sterling|\n",
      "|  William Shulda|\n",
      "|  Walter Wallace|\n",
      "|    Edwin Boller|\n",
      "|    Angela Blake|\n",
      "|  Beatrice James|\n",
      "|    Mildred Rose|\n",
      "| Blanche Brendal|\n",
      "|  Kimberly Singh|\n",
      "|  Elizabeth Huff|\n",
      "|   Rita Sullivan|\n",
      "| Charles Collins|\n",
      "|   Lillie Mccall|\n",
      "|Marcus Hutchison|\n",
      "|       Joe Neary|\n",
      "|   Angela Torres|\n",
      "|     Lori Chavez|\n",
      "|   Elena Corrado|\n",
      "+----------------+\n",
      "only showing top 20 rows\n",
      "\n"
     ]
    }
   ],
   "source": [
    "# Вывести фамилии посетителей, которые читали хотя бы одну новость про спорт.\n",
    "df.filter(df.tag == 'Sport').join(df2, df.id == df2.user_id, 'inner').select('name').distinct().show()"
   ]
  }
 ],
 "metadata": {
  "kernelspec": {
   "display_name": "Python 3.10.7 ('.venv': poetry)",
   "language": "python",
   "name": "python3"
  },
  "language_info": {
   "codemirror_mode": {
    "name": "ipython",
    "version": 3
   },
   "file_extension": ".py",
   "mimetype": "text/x-python",
   "name": "python",
   "nbconvert_exporter": "python",
   "pygments_lexer": "ipython3",
   "version": "3.10.7"
  },
  "orig_nbformat": 4,
  "vscode": {
   "interpreter": {
    "hash": "d1ca058f03bca82e6e83a0c7209552039324a1e9ef66c1f11deed87b53a5c93b"
   }
  }
 },
 "nbformat": 4,
 "nbformat_minor": 2
}
